{
 "cells": [
  {
   "cell_type": "code",
   "execution_count": 14,
   "metadata": {},
   "outputs": [],
   "source": [
    "import pandas as pd\n",
    "import numpy as  np\n",
    "import random as rd\n",
    "import matplotlib.pyplot as plt\n",
    "from scipy.stats import norm"
   ]
  },
  {
   "cell_type": "code",
   "execution_count": 5,
   "metadata": {
    "scrolled": true
   },
   "outputs": [
    {
     "data": {
      "text/html": [
       "<div>\n",
       "<style scoped>\n",
       "    .dataframe tbody tr th:only-of-type {\n",
       "        vertical-align: middle;\n",
       "    }\n",
       "\n",
       "    .dataframe tbody tr th {\n",
       "        vertical-align: top;\n",
       "    }\n",
       "\n",
       "    .dataframe thead th {\n",
       "        text-align: right;\n",
       "    }\n",
       "</style>\n",
       "<table border=\"1\" class=\"dataframe\">\n",
       "  <thead>\n",
       "    <tr style=\"text-align: right;\">\n",
       "      <th></th>\n",
       "      <th>Open</th>\n",
       "      <th>High</th>\n",
       "      <th>Low</th>\n",
       "      <th>Close</th>\n",
       "      <th>Adj Close</th>\n",
       "      <th>Volume</th>\n",
       "    </tr>\n",
       "    <tr>\n",
       "      <th>Date</th>\n",
       "      <th></th>\n",
       "      <th></th>\n",
       "      <th></th>\n",
       "      <th></th>\n",
       "      <th></th>\n",
       "      <th></th>\n",
       "    </tr>\n",
       "  </thead>\n",
       "  <tbody>\n",
       "    <tr>\n",
       "      <th>2020-06-19</th>\n",
       "      <td>59.314285</td>\n",
       "      <td>59.428570</td>\n",
       "      <td>57.076191</td>\n",
       "      <td>58.885715</td>\n",
       "      <td>57.968872</td>\n",
       "      <td>1419810</td>\n",
       "    </tr>\n",
       "    <tr>\n",
       "      <th>2020-06-22</th>\n",
       "      <td>58.619049</td>\n",
       "      <td>60.390476</td>\n",
       "      <td>57.457142</td>\n",
       "      <td>57.952381</td>\n",
       "      <td>57.050068</td>\n",
       "      <td>328335</td>\n",
       "    </tr>\n",
       "    <tr>\n",
       "      <th>2020-06-23</th>\n",
       "      <td>58.847618</td>\n",
       "      <td>59.076191</td>\n",
       "      <td>57.009525</td>\n",
       "      <td>57.057144</td>\n",
       "      <td>56.168774</td>\n",
       "      <td>382620</td>\n",
       "    </tr>\n",
       "    <tr>\n",
       "      <th>2020-06-24</th>\n",
       "      <td>56.761906</td>\n",
       "      <td>56.761906</td>\n",
       "      <td>54.723808</td>\n",
       "      <td>55.038094</td>\n",
       "      <td>54.181156</td>\n",
       "      <td>456750</td>\n",
       "    </tr>\n",
       "    <tr>\n",
       "      <th>2020-06-25</th>\n",
       "      <td>54.847618</td>\n",
       "      <td>56.723808</td>\n",
       "      <td>54.542858</td>\n",
       "      <td>56.590477</td>\n",
       "      <td>55.709370</td>\n",
       "      <td>397740</td>\n",
       "    </tr>\n",
       "  </tbody>\n",
       "</table>\n",
       "</div>"
      ],
      "text/plain": [
       "                 Open       High        Low      Close  Adj Close   Volume\n",
       "Date                                                                      \n",
       "2020-06-19  59.314285  59.428570  57.076191  58.885715  57.968872  1419810\n",
       "2020-06-22  58.619049  60.390476  57.457142  57.952381  57.050068   328335\n",
       "2020-06-23  58.847618  59.076191  57.009525  57.057144  56.168774   382620\n",
       "2020-06-24  56.761906  56.761906  54.723808  55.038094  54.181156   456750\n",
       "2020-06-25  54.847618  56.723808  54.542858  56.590477  55.709370   397740"
      ]
     },
     "execution_count": 5,
     "metadata": {},
     "output_type": "execute_result"
    }
   ],
   "source": [
    "data = pd.read_csv('commerce_data.csv',index_col='Date')\n",
    "data.head()"
   ]
  },
  {
   "cell_type": "code",
   "execution_count": 6,
   "metadata": {},
   "outputs": [],
   "source": [
    "data['log_return'] = np.log(data['Close'].shift(-1)/data['Close'])"
   ]
  },
  {
   "cell_type": "code",
   "execution_count": 18,
   "metadata": {},
   "outputs": [],
   "source": [
    "z_lower = norm.ppf(0.1)\n",
    "z_upper = norm.ppf(0.9)\n",
    "sample_mean = data['log_return'].mean()\n",
    "sample_std = data['log_return'].std(ddof=1)/(data.shape[0]**0.5)"
   ]
  },
  {
   "cell_type": "code",
   "execution_count": 24,
   "metadata": {},
   "outputs": [],
   "source": [
    "ci = (sample_mean+(sample_std*z_lower), sample_mean+(sample_std*z_upper))"
   ]
  },
  {
   "cell_type": "code",
   "execution_count": 26,
   "metadata": {},
   "outputs": [
    {
     "name": "stdout",
     "output_type": "stream",
     "text": [
      "(-0.0006174680023212311, 0.0023385463262715392)\n",
      "0.0008605391619751541\n"
     ]
    }
   ],
   "source": [
    "print(ci)\n",
    "print(sample_mean)"
   ]
  }
 ],
 "metadata": {
  "kernelspec": {
   "display_name": "Python 3",
   "language": "python",
   "name": "python3"
  },
  "language_info": {
   "codemirror_mode": {
    "name": "ipython",
    "version": 3
   },
   "file_extension": ".py",
   "mimetype": "text/x-python",
   "name": "python",
   "nbconvert_exporter": "python",
   "pygments_lexer": "ipython3",
   "version": "3.7.3"
  }
 },
 "nbformat": 4,
 "nbformat_minor": 2
}
