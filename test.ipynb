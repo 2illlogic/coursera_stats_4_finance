{
 "cells": [
  {
   "cell_type": "code",
   "execution_count": 170,
   "metadata": {},
   "outputs": [],
   "source": [
    "import pandas as pd\n",
    "import numpy as np"
   ]
  },
  {
   "cell_type": "code",
   "execution_count": 143,
   "metadata": {},
   "outputs": [],
   "source": [
    "wheat=pd.read_csv('lehfwheat.csv')"
   ]
  },
  {
   "cell_type": "code",
   "execution_count": 144,
   "metadata": {},
   "outputs": [
    {
     "name": "stdout",
     "output_type": "stream",
     "text": [
      "     OBS  LOGPRICE  LOGWHEAT  WHEAT  PRICE  Unnamed: 5\n",
      "0   1888  2.379546  1.327075   3.77  10.80         NaN\n",
      "1   1889  2.351375  1.244155   3.47  10.50         NaN\n",
      "2   1890  2.533697  1.275363   3.58  12.60         NaN\n",
      "3   1891  2.415914  1.324419   3.76  11.20         NaN\n",
      "4   1892  2.261763  1.319086   3.74   9.60         NaN\n",
      "5   1893  2.128232  1.313724   3.72   8.40         NaN\n",
      "6   1894  2.163323  1.316408   3.73   8.70         NaN\n",
      "7   1895  2.297573  1.223775   3.40   9.95         NaN\n",
      "8   1896  2.476538  1.178655   3.25  11.90         NaN\n",
      "9   1897  2.497329  1.115142   3.05  12.15         NaN\n",
      "10  1898  2.288486  1.340250   3.82   9.86         NaN\n",
      "11  1899  2.285439  1.208960   3.35   9.83         NaN\n",
      "12  1900  2.244956  1.199965   3.32   9.44         NaN\n",
      "13  1901  2.248129  1.223775   3.40   9.47         NaN\n",
      "14  1902  2.273156  1.332366   3.79   9.71         NaN\n",
      "15  1903  2.285439  1.340250   3.82   9.83         NaN\n",
      "16  1904  2.285439  1.286474   3.62   9.83         NaN\n",
      "17  1905  2.248129  1.316408   3.73   9.47         NaN\n",
      "18  1906  2.323368  1.313724   3.72  10.21         NaN\n",
      "19  1907  2.394252  1.205971   3.34  10.96         NaN\n",
      "20  1908  2.485740  1.205971   3.34  12.01         NaN\n",
      "21  1909  2.374906  1.316408   3.73  10.75         NaN\n",
      "22  1910  2.292535  1.302913   3.68   9.90         NaN\n",
      "23  1911  2.334084  1.258461   3.52  10.32         NaN\n"
     ]
    }
   ],
   "source": [
    "print(wheat)"
   ]
  },
  {
   "cell_type": "code",
   "execution_count": 145,
   "metadata": {},
   "outputs": [
    {
     "data": {
      "text/plain": [
       "RangeIndex(start=0, stop=24, step=1)"
      ]
     },
     "execution_count": 145,
     "metadata": {},
     "output_type": "execute_result"
    }
   ],
   "source": [
    "wheat.index"
   ]
  },
  {
   "cell_type": "code",
   "execution_count": 146,
   "metadata": {},
   "outputs": [
    {
     "data": {
      "text/plain": [
       "Index(['OBS', 'LOGPRICE', 'LOGWHEAT', 'WHEAT', 'PRICE', 'Unnamed: 5'], dtype='object')"
      ]
     },
     "execution_count": 146,
     "metadata": {},
     "output_type": "execute_result"
    }
   ],
   "source": [
    "wheat.columns"
   ]
  },
  {
   "cell_type": "code",
   "execution_count": 147,
   "metadata": {},
   "outputs": [
    {
     "data": {
      "text/html": [
       "<div>\n",
       "<style scoped>\n",
       "    .dataframe tbody tr th:only-of-type {\n",
       "        vertical-align: middle;\n",
       "    }\n",
       "\n",
       "    .dataframe tbody tr th {\n",
       "        vertical-align: top;\n",
       "    }\n",
       "\n",
       "    .dataframe thead th {\n",
       "        text-align: right;\n",
       "    }\n",
       "</style>\n",
       "<table border=\"1\" class=\"dataframe\">\n",
       "  <thead>\n",
       "    <tr style=\"text-align: right;\">\n",
       "      <th></th>\n",
       "      <th>OBS</th>\n",
       "      <th>LOGPRICE</th>\n",
       "      <th>LOGWHEAT</th>\n",
       "      <th>WHEAT</th>\n",
       "      <th>PRICE</th>\n",
       "      <th>Unnamed: 5</th>\n",
       "    </tr>\n",
       "  </thead>\n",
       "  <tbody>\n",
       "    <tr>\n",
       "      <th>19</th>\n",
       "      <td>1907</td>\n",
       "      <td>2.394252</td>\n",
       "      <td>1.205971</td>\n",
       "      <td>3.34</td>\n",
       "      <td>10.96</td>\n",
       "      <td>NaN</td>\n",
       "    </tr>\n",
       "    <tr>\n",
       "      <th>20</th>\n",
       "      <td>1908</td>\n",
       "      <td>2.485740</td>\n",
       "      <td>1.205971</td>\n",
       "      <td>3.34</td>\n",
       "      <td>12.01</td>\n",
       "      <td>NaN</td>\n",
       "    </tr>\n",
       "    <tr>\n",
       "      <th>21</th>\n",
       "      <td>1909</td>\n",
       "      <td>2.374906</td>\n",
       "      <td>1.316408</td>\n",
       "      <td>3.73</td>\n",
       "      <td>10.75</td>\n",
       "      <td>NaN</td>\n",
       "    </tr>\n",
       "    <tr>\n",
       "      <th>22</th>\n",
       "      <td>1910</td>\n",
       "      <td>2.292535</td>\n",
       "      <td>1.302913</td>\n",
       "      <td>3.68</td>\n",
       "      <td>9.90</td>\n",
       "      <td>NaN</td>\n",
       "    </tr>\n",
       "    <tr>\n",
       "      <th>23</th>\n",
       "      <td>1911</td>\n",
       "      <td>2.334084</td>\n",
       "      <td>1.258461</td>\n",
       "      <td>3.52</td>\n",
       "      <td>10.32</td>\n",
       "      <td>NaN</td>\n",
       "    </tr>\n",
       "  </tbody>\n",
       "</table>\n",
       "</div>"
      ],
      "text/plain": [
       "     OBS  LOGPRICE  LOGWHEAT  WHEAT  PRICE  Unnamed: 5\n",
       "19  1907  2.394252  1.205971   3.34  10.96         NaN\n",
       "20  1908  2.485740  1.205971   3.34  12.01         NaN\n",
       "21  1909  2.374906  1.316408   3.73  10.75         NaN\n",
       "22  1910  2.292535  1.302913   3.68   9.90         NaN\n",
       "23  1911  2.334084  1.258461   3.52  10.32         NaN"
      ]
     },
     "execution_count": 147,
     "metadata": {},
     "output_type": "execute_result"
    }
   ],
   "source": [
    "wheat.tail()"
   ]
  },
  {
   "cell_type": "code",
   "execution_count": 148,
   "metadata": {},
   "outputs": [
    {
     "data": {
      "text/html": [
       "<div>\n",
       "<style scoped>\n",
       "    .dataframe tbody tr th:only-of-type {\n",
       "        vertical-align: middle;\n",
       "    }\n",
       "\n",
       "    .dataframe tbody tr th {\n",
       "        vertical-align: top;\n",
       "    }\n",
       "\n",
       "    .dataframe thead th {\n",
       "        text-align: right;\n",
       "    }\n",
       "</style>\n",
       "<table border=\"1\" class=\"dataframe\">\n",
       "  <thead>\n",
       "    <tr style=\"text-align: right;\">\n",
       "      <th></th>\n",
       "      <th>OBS</th>\n",
       "      <th>LOGPRICE</th>\n",
       "      <th>LOGWHEAT</th>\n",
       "      <th>WHEAT</th>\n",
       "      <th>PRICE</th>\n",
       "      <th>Unnamed: 5</th>\n",
       "    </tr>\n",
       "  </thead>\n",
       "  <tbody>\n",
       "    <tr>\n",
       "      <th>count</th>\n",
       "      <td>24.000000</td>\n",
       "      <td>24.000000</td>\n",
       "      <td>24.000000</td>\n",
       "      <td>24.000000</td>\n",
       "      <td>24.000000</td>\n",
       "      <td>0.0</td>\n",
       "    </tr>\n",
       "    <tr>\n",
       "      <th>mean</th>\n",
       "      <td>1899.500000</td>\n",
       "      <td>2.327889</td>\n",
       "      <td>1.270404</td>\n",
       "      <td>3.568750</td>\n",
       "      <td>10.307917</td>\n",
       "      <td>NaN</td>\n",
       "    </tr>\n",
       "    <tr>\n",
       "      <th>std</th>\n",
       "      <td>7.071068</td>\n",
       "      <td>0.101887</td>\n",
       "      <td>0.061954</td>\n",
       "      <td>0.216158</td>\n",
       "      <td>1.067423</td>\n",
       "      <td>NaN</td>\n",
       "    </tr>\n",
       "    <tr>\n",
       "      <th>min</th>\n",
       "      <td>1888.000000</td>\n",
       "      <td>2.128232</td>\n",
       "      <td>1.115142</td>\n",
       "      <td>3.050000</td>\n",
       "      <td>8.400000</td>\n",
       "      <td>NaN</td>\n",
       "    </tr>\n",
       "    <tr>\n",
       "      <th>25%</th>\n",
       "      <td>1893.750000</td>\n",
       "      <td>2.270308</td>\n",
       "      <td>1.220072</td>\n",
       "      <td>3.387500</td>\n",
       "      <td>9.682500</td>\n",
       "      <td>NaN</td>\n",
       "    </tr>\n",
       "    <tr>\n",
       "      <th>50%</th>\n",
       "      <td>1899.500000</td>\n",
       "      <td>2.295054</td>\n",
       "      <td>1.294693</td>\n",
       "      <td>3.650000</td>\n",
       "      <td>9.925000</td>\n",
       "      <td>NaN</td>\n",
       "    </tr>\n",
       "    <tr>\n",
       "      <th>75%</th>\n",
       "      <td>1905.250000</td>\n",
       "      <td>2.383223</td>\n",
       "      <td>1.317078</td>\n",
       "      <td>3.732500</td>\n",
       "      <td>10.840000</td>\n",
       "      <td>NaN</td>\n",
       "    </tr>\n",
       "    <tr>\n",
       "      <th>max</th>\n",
       "      <td>1911.000000</td>\n",
       "      <td>2.533697</td>\n",
       "      <td>1.340250</td>\n",
       "      <td>3.820000</td>\n",
       "      <td>12.600000</td>\n",
       "      <td>NaN</td>\n",
       "    </tr>\n",
       "  </tbody>\n",
       "</table>\n",
       "</div>"
      ],
      "text/plain": [
       "               OBS   LOGPRICE   LOGWHEAT      WHEAT      PRICE  Unnamed: 5\n",
       "count    24.000000  24.000000  24.000000  24.000000  24.000000         0.0\n",
       "mean   1899.500000   2.327889   1.270404   3.568750  10.307917         NaN\n",
       "std       7.071068   0.101887   0.061954   0.216158   1.067423         NaN\n",
       "min    1888.000000   2.128232   1.115142   3.050000   8.400000         NaN\n",
       "25%    1893.750000   2.270308   1.220072   3.387500   9.682500         NaN\n",
       "50%    1899.500000   2.295054   1.294693   3.650000   9.925000         NaN\n",
       "75%    1905.250000   2.383223   1.317078   3.732500  10.840000         NaN\n",
       "max    1911.000000   2.533697   1.340250   3.820000  12.600000         NaN"
      ]
     },
     "execution_count": 148,
     "metadata": {},
     "output_type": "execute_result"
    }
   ],
   "source": [
    "wheat.describe()"
   ]
  },
  {
   "cell_type": "code",
   "execution_count": 149,
   "metadata": {},
   "outputs": [
    {
     "data": {
      "text/plain": [
       "1908"
      ]
     },
     "execution_count": 149,
     "metadata": {},
     "output_type": "execute_result"
    }
   ],
   "source": [
    "wheat.loc[20,'OBS']"
   ]
  },
  {
   "cell_type": "code",
   "execution_count": 150,
   "metadata": {},
   "outputs": [
    {
     "data": {
      "text/plain": [
       "1908"
      ]
     },
     "execution_count": 150,
     "metadata": {},
     "output_type": "execute_result"
    }
   ],
   "source": [
    "wheat.iloc[20,0]"
   ]
  },
  {
   "cell_type": "code",
   "execution_count": 151,
   "metadata": {},
   "outputs": [
    {
     "data": {
      "text/plain": [
       "0     1888\n",
       "1     1889\n",
       "2     1890\n",
       "3     1891\n",
       "4     1892\n",
       "5     1893\n",
       "6     1894\n",
       "7     1895\n",
       "8     1896\n",
       "9     1897\n",
       "10    1898\n",
       "11    1899\n",
       "12    1900\n",
       "13    1901\n",
       "14    1902\n",
       "15    1903\n",
       "16    1904\n",
       "17    1905\n",
       "18    1906\n",
       "19    1907\n",
       "20    1908\n",
       "21    1909\n",
       "22    1910\n",
       "23    1911\n",
       "Name: OBS, dtype: int64"
      ]
     },
     "execution_count": 151,
     "metadata": {},
     "output_type": "execute_result"
    }
   ],
   "source": [
    "wheat.loc[:,'OBS']"
   ]
  },
  {
   "cell_type": "code",
   "execution_count": 152,
   "metadata": {},
   "outputs": [
    {
     "data": {
      "text/plain": [
       "OBS         1908.000000\n",
       "LOGPRICE       2.485740\n",
       "LOGWHEAT       1.205971\n",
       "WHEAT          3.340000\n",
       "PRICE         12.010000\n",
       "Name: 20, dtype: float64"
      ]
     },
     "execution_count": 152,
     "metadata": {},
     "output_type": "execute_result"
    }
   ],
   "source": [
    "wheat.iloc[20,:-1]"
   ]
  },
  {
   "cell_type": "code",
   "execution_count": 153,
   "metadata": {},
   "outputs": [],
   "source": [
    "wheat.drop(columns=['Unnamed: 5'], inplace=True)"
   ]
  },
  {
   "cell_type": "code",
   "execution_count": 154,
   "metadata": {},
   "outputs": [
    {
     "data": {
      "text/plain": [
       "['OBS', 'LOGPRICE', 'LOGWHEAT', 'WHEAT', 'PRICE']"
      ]
     },
     "execution_count": 154,
     "metadata": {},
     "output_type": "execute_result"
    }
   ],
   "source": [
    "list(wheat.columns)"
   ]
  },
  {
   "cell_type": "code",
   "execution_count": 155,
   "metadata": {},
   "outputs": [],
   "source": [
    "new_cols=[x.lower() for x in list(wheat.columns)]\n",
    "new_cols[0]='year'"
   ]
  },
  {
   "cell_type": "code",
   "execution_count": 156,
   "metadata": {},
   "outputs": [
    {
     "data": {
      "text/plain": [
       "Index(['year', 'logprice', 'logwheat', 'wheat', 'price'], dtype='object')"
      ]
     },
     "execution_count": 156,
     "metadata": {},
     "output_type": "execute_result"
    }
   ],
   "source": [
    "wheat.columns=new_cols\n",
    "wheat.columns"
   ]
  },
  {
   "cell_type": "code",
   "execution_count": 157,
   "metadata": {},
   "outputs": [
    {
     "data": {
      "text/html": [
       "<div>\n",
       "<style scoped>\n",
       "    .dataframe tbody tr th:only-of-type {\n",
       "        vertical-align: middle;\n",
       "    }\n",
       "\n",
       "    .dataframe tbody tr th {\n",
       "        vertical-align: top;\n",
       "    }\n",
       "\n",
       "    .dataframe thead th {\n",
       "        text-align: right;\n",
       "    }\n",
       "</style>\n",
       "<table border=\"1\" class=\"dataframe\">\n",
       "  <thead>\n",
       "    <tr style=\"text-align: right;\">\n",
       "      <th></th>\n",
       "      <th>logprice</th>\n",
       "      <th>logwheat</th>\n",
       "      <th>wheat</th>\n",
       "      <th>price</th>\n",
       "    </tr>\n",
       "    <tr>\n",
       "      <th>year</th>\n",
       "      <th></th>\n",
       "      <th></th>\n",
       "      <th></th>\n",
       "      <th></th>\n",
       "    </tr>\n",
       "  </thead>\n",
       "  <tbody>\n",
       "    <tr>\n",
       "      <th>1888</th>\n",
       "      <td>2.379546</td>\n",
       "      <td>1.327075</td>\n",
       "      <td>3.77</td>\n",
       "      <td>10.8</td>\n",
       "    </tr>\n",
       "    <tr>\n",
       "      <th>1889</th>\n",
       "      <td>2.351375</td>\n",
       "      <td>1.244155</td>\n",
       "      <td>3.47</td>\n",
       "      <td>10.5</td>\n",
       "    </tr>\n",
       "    <tr>\n",
       "      <th>1890</th>\n",
       "      <td>2.533697</td>\n",
       "      <td>1.275363</td>\n",
       "      <td>3.58</td>\n",
       "      <td>12.6</td>\n",
       "    </tr>\n",
       "    <tr>\n",
       "      <th>1891</th>\n",
       "      <td>2.415914</td>\n",
       "      <td>1.324419</td>\n",
       "      <td>3.76</td>\n",
       "      <td>11.2</td>\n",
       "    </tr>\n",
       "    <tr>\n",
       "      <th>1892</th>\n",
       "      <td>2.261763</td>\n",
       "      <td>1.319086</td>\n",
       "      <td>3.74</td>\n",
       "      <td>9.6</td>\n",
       "    </tr>\n",
       "  </tbody>\n",
       "</table>\n",
       "</div>"
      ],
      "text/plain": [
       "      logprice  logwheat  wheat  price\n",
       "year                                  \n",
       "1888  2.379546  1.327075   3.77   10.8\n",
       "1889  2.351375  1.244155   3.47   10.5\n",
       "1890  2.533697  1.275363   3.58   12.6\n",
       "1891  2.415914  1.324419   3.76   11.2\n",
       "1892  2.261763  1.319086   3.74    9.6"
      ]
     },
     "execution_count": 157,
     "metadata": {},
     "output_type": "execute_result"
    }
   ],
   "source": [
    "wheat.set_index('year', inplace=True)\n",
    "wheat.head()"
   ]
  },
  {
   "cell_type": "code",
   "execution_count": 158,
   "metadata": {},
   "outputs": [
    {
     "data": {
      "text/plain": [
       "<matplotlib.axes._subplots.AxesSubplot at 0x7f7b52313940>"
      ]
     },
     "execution_count": 158,
     "metadata": {},
     "output_type": "execute_result"
    },
    {
     "data": {
      "image/png": "[encoded data removed]",
      "text/plain": [
       "<Figure size 432x288 with 1 Axes>"
      ]
     },
     "metadata": {
      "needs_background": "light"
     },
     "output_type": "display_data"
    }
   ],
   "source": [
    "wheat.plot()"
   ]
  },
  {
   "cell_type": "code",
   "execution_count": 162,
   "metadata": {},
   "outputs": [],
   "source": [
    "y2_wheat=wheat['wheat']\n",
    "y1_wheat=wheat['wheat'].shift(1)\n",
    "pct_chg_wheat=1-(y2_wheat/y1_wheat)"
   ]
  },
  {
   "cell_type": "code",
   "execution_count": 164,
   "metadata": {},
   "outputs": [],
   "source": [
    "wheat['pct_chg_wheat']=1-(y2_wheat/y1_wheat)"
   ]
  },
  {
   "cell_type": "code",
   "execution_count": 168,
   "metadata": {},
   "outputs": [],
   "source": [
    "y2_logwheat=wheat['logwheat']\n",
    "y1_logwheat=wheat['logwheat'].shift(1)\n",
    "wheat['pct_chg_logwheat']=1-(y2_logwheat/y1_logwheat)"
   ]
  },
  {
   "cell_type": "code",
   "execution_count": 175,
   "metadata": {},
   "outputs": [
    {
     "name": "stderr",
     "output_type": "stream",
     "text": [
      "/home/bob/anaconda3/envs/py_env_1/lib/python3.7/site-packages/ipykernel_launcher.py:1: RuntimeWarning: divide by zero encountered in log\n",
      "  \"\"\"Entry point for launching an IPython kernel.\n"
     ]
    }
   ],
   "source": [
    "wheat['log_pct_chg_wheat']=np.log(np.abs(wheat['pct_chg_wheat']))"
   ]
  },
  {
   "cell_type": "code",
   "execution_count": 176,
   "metadata": {},
   "outputs": [
    {
     "data": {
      "text/html": [
       "<div>\n",
       "<style scoped>\n",
       "    .dataframe tbody tr th:only-of-type {\n",
       "        vertical-align: middle;\n",
       "    }\n",
       "\n",
       "    .dataframe tbody tr th {\n",
       "        vertical-align: top;\n",
       "    }\n",
       "\n",
       "    .dataframe thead th {\n",
       "        text-align: right;\n",
       "    }\n",
       "</style>\n",
       "<table border=\"1\" class=\"dataframe\">\n",
       "  <thead>\n",
       "    <tr style=\"text-align: right;\">\n",
       "      <th></th>\n",
       "      <th>logprice</th>\n",
       "      <th>logwheat</th>\n",
       "      <th>wheat</th>\n",
       "      <th>price</th>\n",
       "      <th>pct_chg_wheat</th>\n",
       "      <th>pct_chg_logwheat</th>\n",
       "      <th>log_pct_chg_wheat</th>\n",
       "    </tr>\n",
       "    <tr>\n",
       "      <th>year</th>\n",
       "      <th></th>\n",
       "      <th></th>\n",
       "      <th></th>\n",
       "      <th></th>\n",
       "      <th></th>\n",
       "      <th></th>\n",
       "      <th></th>\n",
       "    </tr>\n",
       "  </thead>\n",
       "  <tbody>\n",
       "    <tr>\n",
       "      <th>1888</th>\n",
       "      <td>2.379546</td>\n",
       "      <td>1.327075</td>\n",
       "      <td>3.77</td>\n",
       "      <td>10.8</td>\n",
       "      <td>NaN</td>\n",
       "      <td>NaN</td>\n",
       "      <td>NaN</td>\n",
       "    </tr>\n",
       "    <tr>\n",
       "      <th>1889</th>\n",
       "      <td>2.351375</td>\n",
       "      <td>1.244155</td>\n",
       "      <td>3.47</td>\n",
       "      <td>10.5</td>\n",
       "      <td>0.079576</td>\n",
       "      <td>0.062484</td>\n",
       "      <td>-2.531048</td>\n",
       "    </tr>\n",
       "    <tr>\n",
       "      <th>1890</th>\n",
       "      <td>2.533697</td>\n",
       "      <td>1.275363</td>\n",
       "      <td>3.58</td>\n",
       "      <td>12.6</td>\n",
       "      <td>-0.031700</td>\n",
       "      <td>-0.025084</td>\n",
       "      <td>-3.451430</td>\n",
       "    </tr>\n",
       "    <tr>\n",
       "      <th>1891</th>\n",
       "      <td>2.415914</td>\n",
       "      <td>1.324419</td>\n",
       "      <td>3.76</td>\n",
       "      <td>11.2</td>\n",
       "      <td>-0.050279</td>\n",
       "      <td>-0.038464</td>\n",
       "      <td>-2.990161</td>\n",
       "    </tr>\n",
       "    <tr>\n",
       "      <th>1892</th>\n",
       "      <td>2.261763</td>\n",
       "      <td>1.319086</td>\n",
       "      <td>3.74</td>\n",
       "      <td>9.6</td>\n",
       "      <td>0.005319</td>\n",
       "      <td>0.004027</td>\n",
       "      <td>-5.236442</td>\n",
       "    </tr>\n",
       "  </tbody>\n",
       "</table>\n",
       "</div>"
      ],
      "text/plain": [
       "      logprice  logwheat  wheat  price  pct_chg_wheat  pct_chg_logwheat  \\\n",
       "year                                                                      \n",
       "1888  2.379546  1.327075   3.77   10.8            NaN               NaN   \n",
       "1889  2.351375  1.244155   3.47   10.5       0.079576          0.062484   \n",
       "1890  2.533697  1.275363   3.58   12.6      -0.031700         -0.025084   \n",
       "1891  2.415914  1.324419   3.76   11.2      -0.050279         -0.038464   \n",
       "1892  2.261763  1.319086   3.74    9.6       0.005319          0.004027   \n",
       "\n",
       "      log_pct_chg_wheat  \n",
       "year                     \n",
       "1888                NaN  \n",
       "1889          -2.531048  \n",
       "1890          -3.451430  \n",
       "1891          -2.990161  \n",
       "1892          -5.236442  "
      ]
     },
     "execution_count": 176,
     "metadata": {},
     "output_type": "execute_result"
    }
   ],
   "source": [
    "wheat.head()"
   ]
  },
  {
   "cell_type": "code",
   "execution_count": 115,
   "metadata": {},
   "outputs": [],
   "source": [
    "wheat['chg_price'] = wheat['price'] - wheat['prior_yr_price']"
   ]
  },
  {
   "cell_type": "code",
   "execution_count": 117,
   "metadata": {},
   "outputs": [],
   "source": [
    "wheat['pct_chg_price'] = wheat['chg_price']/wheat['prior_yr_price']"
   ]
  },
  {
   "cell_type": "code",
   "execution_count": 119,
   "metadata": {},
   "outputs": [],
   "source": [
    "prior_yr_wheat = wheat['wheat'].shift(1)"
   ]
  },
  {
   "cell_type": "code",
   "execution_count": null,
   "metadata": {},
   "outputs": [],
   "source": []
  },
  {
   "cell_type": "code",
   "execution_count": null,
   "metadata": {},
   "outputs": [],
   "source": []
  },
  {
   "cell_type": "code",
   "execution_count": 118,
   "metadata": {},
   "outputs": [
    {
     "data": {
      "text/html": [
       "<div>\n",
       "<style scoped>\n",
       "    .dataframe tbody tr th:only-of-type {\n",
       "        vertical-align: middle;\n",
       "    }\n",
       "\n",
       "    .dataframe tbody tr th {\n",
       "        vertical-align: top;\n",
       "    }\n",
       "\n",
       "    .dataframe thead th {\n",
       "        text-align: right;\n",
       "    }\n",
       "</style>\n",
       "<table border=\"1\" class=\"dataframe\">\n",
       "  <thead>\n",
       "    <tr style=\"text-align: right;\">\n",
       "      <th></th>\n",
       "      <th>logprice</th>\n",
       "      <th>logwheat</th>\n",
       "      <th>wheat</th>\n",
       "      <th>price</th>\n",
       "      <th>prior_yr_price</th>\n",
       "      <th>chg_price</th>\n",
       "      <th>pct_chg_price</th>\n",
       "      <th>prior_yr_wheat</th>\n",
       "    </tr>\n",
       "    <tr>\n",
       "      <th>year</th>\n",
       "      <th></th>\n",
       "      <th></th>\n",
       "      <th></th>\n",
       "      <th></th>\n",
       "      <th></th>\n",
       "      <th></th>\n",
       "      <th></th>\n",
       "      <th></th>\n",
       "    </tr>\n",
       "  </thead>\n",
       "  <tbody>\n",
       "    <tr>\n",
       "      <th>1888</th>\n",
       "      <td>2.379546</td>\n",
       "      <td>1.327075</td>\n",
       "      <td>3.77</td>\n",
       "      <td>10.8</td>\n",
       "      <td>NaN</td>\n",
       "      <td>NaN</td>\n",
       "      <td>NaN</td>\n",
       "      <td>NaN</td>\n",
       "    </tr>\n",
       "    <tr>\n",
       "      <th>1889</th>\n",
       "      <td>2.351375</td>\n",
       "      <td>1.244155</td>\n",
       "      <td>3.47</td>\n",
       "      <td>10.5</td>\n",
       "      <td>10.8</td>\n",
       "      <td>-0.3</td>\n",
       "      <td>-0.027778</td>\n",
       "      <td>3.77</td>\n",
       "    </tr>\n",
       "    <tr>\n",
       "      <th>1890</th>\n",
       "      <td>2.533697</td>\n",
       "      <td>1.275363</td>\n",
       "      <td>3.58</td>\n",
       "      <td>12.6</td>\n",
       "      <td>10.5</td>\n",
       "      <td>2.1</td>\n",
       "      <td>0.200000</td>\n",
       "      <td>3.47</td>\n",
       "    </tr>\n",
       "    <tr>\n",
       "      <th>1891</th>\n",
       "      <td>2.415914</td>\n",
       "      <td>1.324419</td>\n",
       "      <td>3.76</td>\n",
       "      <td>11.2</td>\n",
       "      <td>12.6</td>\n",
       "      <td>-1.4</td>\n",
       "      <td>-0.111111</td>\n",
       "      <td>3.58</td>\n",
       "    </tr>\n",
       "    <tr>\n",
       "      <th>1892</th>\n",
       "      <td>2.261763</td>\n",
       "      <td>1.319086</td>\n",
       "      <td>3.74</td>\n",
       "      <td>9.6</td>\n",
       "      <td>11.2</td>\n",
       "      <td>-1.6</td>\n",
       "      <td>-0.142857</td>\n",
       "      <td>3.76</td>\n",
       "    </tr>\n",
       "  </tbody>\n",
       "</table>\n",
       "</div>"
      ],
      "text/plain": [
       "      logprice  logwheat  wheat  price  prior_yr_price  chg_price  \\\n",
       "year                                                                \n",
       "1888  2.379546  1.327075   3.77   10.8             NaN        NaN   \n",
       "1889  2.351375  1.244155   3.47   10.5            10.8       -0.3   \n",
       "1890  2.533697  1.275363   3.58   12.6            10.5        2.1   \n",
       "1891  2.415914  1.324419   3.76   11.2            12.6       -1.4   \n",
       "1892  2.261763  1.319086   3.74    9.6            11.2       -1.6   \n",
       "\n",
       "      pct_chg_price  prior_yr_wheat  \n",
       "year                                 \n",
       "1888            NaN             NaN  \n",
       "1889      -0.027778            3.77  \n",
       "1890       0.200000            3.47  \n",
       "1891      -0.111111            3.58  \n",
       "1892      -0.142857            3.76  "
      ]
     },
     "execution_count": 118,
     "metadata": {},
     "output_type": "execute_result"
    }
   ],
   "source": [
    "wheat.head()"
   ]
  },
  {
   "cell_type": "code",
   "execution_count": null,
   "metadata": {},
   "outputs": [],
   "source": []
  },
  {
   "cell_type": "code",
   "execution_count": 66,
   "metadata": {},
   "outputs": [
    {
     "data": {
      "text/plain": [
       "<matplotlib.axes._subplots.AxesSubplot at 0x7f7b525422e8>"
      ]
     },
     "execution_count": 66,
     "metadata": {},
     "output_type": "execute_result"
    },
    {
     "data": {
      "image/png": "[encoded data removed]",
      "text/plain": [
       "<Figure size 432x288 with 1 Axes>"
      ]
     },
     "metadata": {
      "needs_background": "light"
     },
     "output_type": "display_data"
    }
   ],
   "source": [
    "wheat[['pct_chg_price','WHEAT']].plot()"
   ]
  },
  {
   "cell_type": "code",
   "execution_count": 67,
   "metadata": {},
   "outputs": [
    {
     "data": {
      "text/plain": [
       "Year\n",
       "1888    10.80\n",
       "1889    10.50\n",
       "1890    12.60\n",
       "1891    11.20\n",
       "1892     9.60\n",
       "1893     8.40\n",
       "1894     8.70\n",
       "1895     9.95\n",
       "1896    11.90\n",
       "1897    12.15\n",
       "1898     9.86\n",
       "1899     9.83\n",
       "1900     9.44\n",
       "1901     9.47\n",
       "1902     9.71\n",
       "1903     9.83\n",
       "1904     9.83\n",
       "1905     9.47\n",
       "1906    10.21\n",
       "1907    10.96\n",
       "1908    12.01\n",
       "1909    10.75\n",
       "1910     9.90\n",
       "1911    10.32\n",
       "Name: PRICE, dtype: float64"
      ]
     },
     "execution_count": 67,
     "metadata": {},
     "output_type": "execute_result"
    }
   ],
   "source": [
    "wheat[['PRICE']"
   ]
  },
  {
   "cell_type": "code",
   "execution_count": null,
   "metadata": {},
   "outputs": [],
   "source": []
  }
 ],
 "metadata": {
  "kernelspec": {
   "display_name": "Python 3",
   "language": "python",
   "name": "python3"
  },
  "language_info": {
   "codemirror_mode": {
    "name": "ipython",
    "version": 3
   },
   "file_extension": ".py",
   "mimetype": "text/x-python",
   "name": "python",
   "nbconvert_exporter": "python",
   "pygments_lexer": "ipython3",
   "version": "3.7.3"
  }
 },
 "nbformat": 4,
 "nbformat_minor": 2
}
