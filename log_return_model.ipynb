{
 "cells": [
  {
   "cell_type": "code",
   "execution_count": 41,
   "metadata": {},
   "outputs": [],
   "source": [
    "import pandas as pd\n",
    "import numpy as np\n",
    "from scipy.stats import norm\n",
    "import matplotlib.pyplot as plt"
   ]
  },
  {
   "cell_type": "code",
   "execution_count": 11,
   "metadata": {},
   "outputs": [
    {
     "data": {
      "text/html": [
       "<div>\n",
       "<style scoped>\n",
       "    .dataframe tbody tr th:only-of-type {\n",
       "        vertical-align: middle;\n",
       "    }\n",
       "\n",
       "    .dataframe tbody tr th {\n",
       "        vertical-align: top;\n",
       "    }\n",
       "\n",
       "    .dataframe thead th {\n",
       "        text-align: right;\n",
       "    }\n",
       "</style>\n",
       "<table border=\"1\" class=\"dataframe\">\n",
       "  <thead>\n",
       "    <tr style=\"text-align: right;\">\n",
       "      <th></th>\n",
       "      <th>Open</th>\n",
       "      <th>High</th>\n",
       "      <th>Low</th>\n",
       "      <th>Close</th>\n",
       "      <th>Adj Close</th>\n",
       "      <th>Volume</th>\n",
       "      <th>Ticker</th>\n",
       "    </tr>\n",
       "    <tr>\n",
       "      <th>Date</th>\n",
       "      <th></th>\n",
       "      <th></th>\n",
       "      <th></th>\n",
       "      <th></th>\n",
       "      <th></th>\n",
       "      <th></th>\n",
       "      <th></th>\n",
       "    </tr>\n",
       "  </thead>\n",
       "  <tbody>\n",
       "    <tr>\n",
       "      <th>2020-06-16</th>\n",
       "      <td>202.369995</td>\n",
       "      <td>202.576004</td>\n",
       "      <td>192.477997</td>\n",
       "      <td>196.425995</td>\n",
       "      <td>196.425995</td>\n",
       "      <td>70255500</td>\n",
       "      <td>TSLA</td>\n",
       "    </tr>\n",
       "    <tr>\n",
       "      <th>2020-06-17</th>\n",
       "      <td>197.542007</td>\n",
       "      <td>201.000000</td>\n",
       "      <td>196.514008</td>\n",
       "      <td>198.358002</td>\n",
       "      <td>198.358002</td>\n",
       "      <td>49454000</td>\n",
       "      <td>TSLA</td>\n",
       "    </tr>\n",
       "    <tr>\n",
       "      <th>2020-06-18</th>\n",
       "      <td>200.600006</td>\n",
       "      <td>203.839996</td>\n",
       "      <td>198.893997</td>\n",
       "      <td>200.792007</td>\n",
       "      <td>200.792007</td>\n",
       "      <td>48759500</td>\n",
       "      <td>TSLA</td>\n",
       "    </tr>\n",
       "    <tr>\n",
       "      <th>2020-06-19</th>\n",
       "      <td>202.556000</td>\n",
       "      <td>203.194000</td>\n",
       "      <td>198.268005</td>\n",
       "      <td>200.179993</td>\n",
       "      <td>200.179993</td>\n",
       "      <td>43398500</td>\n",
       "      <td>TSLA</td>\n",
       "    </tr>\n",
       "    <tr>\n",
       "      <th>2020-06-22</th>\n",
       "      <td>199.990005</td>\n",
       "      <td>201.776001</td>\n",
       "      <td>198.003998</td>\n",
       "      <td>198.863998</td>\n",
       "      <td>198.863998</td>\n",
       "      <td>31812000</td>\n",
       "      <td>TSLA</td>\n",
       "    </tr>\n",
       "  </tbody>\n",
       "</table>\n",
       "</div>"
      ],
      "text/plain": [
       "                  Open        High         Low       Close   Adj Close  \\\n",
       "Date                                                                     \n",
       "2020-06-16  202.369995  202.576004  192.477997  196.425995  196.425995   \n",
       "2020-06-17  197.542007  201.000000  196.514008  198.358002  198.358002   \n",
       "2020-06-18  200.600006  203.839996  198.893997  200.792007  200.792007   \n",
       "2020-06-19  202.556000  203.194000  198.268005  200.179993  200.179993   \n",
       "2020-06-22  199.990005  201.776001  198.003998  198.863998  198.863998   \n",
       "\n",
       "              Volume Ticker  \n",
       "Date                         \n",
       "2020-06-16  70255500   TSLA  \n",
       "2020-06-17  49454000   TSLA  \n",
       "2020-06-18  48759500   TSLA  \n",
       "2020-06-19  43398500   TSLA  \n",
       "2020-06-22  31812000   TSLA  "
      ]
     },
     "execution_count": 11,
     "metadata": {},
     "output_type": "execute_result"
    }
   ],
   "source": [
    "data = pd.read_csv('ex_stock_data.csv',index_col='Date')\n",
    "data = data[data['Ticker']=='TSLA']\n",
    "data.head()"
   ]
  },
  {
   "cell_type": "code",
   "execution_count": 16,
   "metadata": {},
   "outputs": [
    {
     "data": {
      "text/plain": [
       "<matplotlib.axes._subplots.AxesSubplot at 0x7f05b80be048>"
      ]
     },
     "execution_count": 16,
     "metadata": {},
     "output_type": "execute_result"
    },
    {
     "data": {
      "image/png": "[encoded data removed]",
      "text/plain": [
       "<Figure size 432x288 with 1 Axes>"
      ]
     },
     "metadata": {
      "needs_background": "light"
     },
     "output_type": "display_data"
    }
   ],
   "source": [
    "#plots closing prices for selected time frame\n",
    "data.loc[:,'Close'].plot()"
   ]
  },
  {
   "cell_type": "markdown",
   "metadata": {},
   "source": [
    "$$\\textrm{Log Return} = \\log{(c_{n})}-\\log{(c_{n-1})} = \\log{\\left(\\frac{c_{n}}{c_{n-1}}\\right)}$$"
   ]
  },
  {
   "cell_type": "code",
   "execution_count": 21,
   "metadata": {},
   "outputs": [
    {
     "data": {
      "text/plain": [
       "<matplotlib.axes._subplots.AxesSubplot at 0x7f05b5d66048>"
      ]
     },
     "execution_count": 21,
     "metadata": {},
     "output_type": "execute_result"
    },
    {
     "data": {
      "image/png": "[encoded data removed]",
      "text/plain": [
       "<Figure size 432x288 with 1 Axes>"
      ]
     },
     "metadata": {
      "needs_background": "light"
     },
     "output_type": "display_data"
    }
   ],
   "source": [
    "#compute log return\n",
    "data['log_return'] = np.log(data['Close']).shift(-1) - np.log(data['Close'])\n",
    "data['log_return'].hist(bins=100)"
   ]
  },
  {
   "cell_type": "code",
   "execution_count": 29,
   "metadata": {},
   "outputs": [],
   "source": [
    "#build a standard normal distribution table\n",
    "#density = pd.DataFrame()\n",
    "#density['x'] = np.arange(-4,4,0.001)\n",
    "#density['pdf'] = norm.pdf(density['x'],0,1)\n",
    "#density['cdf'] = norm.cdf(density['x'],0,1)"
   ]
  },
  {
   "cell_type": "code",
   "execution_count": 35,
   "metadata": {},
   "outputs": [],
   "source": [
    "#plt.plot(density['x'],density['pdf'])\n",
    "#plt.plot(density['x'],density['cdf'])"
   ]
  },
  {
   "cell_type": "code",
   "execution_count": 52,
   "metadata": {},
   "outputs": [
    {
     "name": "stdout",
     "output_type": "stream",
     "text": [
      "0.004582803893941385 0.04711228452182538\n"
     ]
    }
   ],
   "source": [
    "#find mean and standard deviation of real data\n",
    "mu = data['log_return'].mean()\n",
    "sigma = data['log_return'].std(ddof=1)\n",
    "print(mu,sigma)"
   ]
  },
  {
   "cell_type": "code",
   "execution_count": 53,
   "metadata": {},
   "outputs": [],
   "source": [
    "#approximate density function\n",
    "density = pd.DataFrame()\n",
    "density['x'] = np.arange(-0.15,0.15,0.001)\n",
    "density['pdf'] = norm.pdf(density['x'],mu,sigma)"
   ]
  },
  {
   "cell_type": "code",
   "execution_count": 54,
   "metadata": {},
   "outputs": [
    {
     "data": {
      "image/png": "[encoded data removed]",
      "text/plain": [
       "<Figure size 1440x720 with 1 Axes>"
      ]
     },
     "metadata": {
      "needs_background": "light"
     },
     "output_type": "display_data"
    }
   ],
   "source": [
    "data['log_return'].hist(bins=50, figsize=(20,10))\n",
    "plt.plot(density['x'],density['pdf'], color='red')\n",
    "plt.show()"
   ]
  },
  {
   "cell_type": "code",
   "execution_count": 56,
   "metadata": {},
   "outputs": [
    {
     "name": "stdout",
     "output_type": "stream",
     "text": [
      "0.12331607875661277\n"
     ]
    }
   ],
   "source": [
    "#calculate probability of daily loss of 5%\n",
    "prob_return = norm.cdf(-0.05,mu,sigma)\n",
    "print(prob_return)"
   ]
  },
  {
   "cell_type": "code",
   "execution_count": 61,
   "metadata": {},
   "outputs": [
    {
     "data": {
      "text/plain": [
       "0.04190298256968874"
      ]
     },
     "execution_count": 61,
     "metadata": {},
     "output_type": "execute_result"
    }
   ],
   "source": [
    "#calculate probability of annual loss of 10%\n",
    "mu220 = 220*mu\n",
    "sigma220 = (220**0.5)*sigma\n",
    "norm.cdf(-0.2,mu220,sigma220)"
   ]
  },
  {
   "cell_type": "code",
   "execution_count": 62,
   "metadata": {},
   "outputs": [
    {
     "data": {
      "text/plain": [
       "-0.07291000817575283"
      ]
     },
     "execution_count": 62,
     "metadata": {},
     "output_type": "execute_result"
    }
   ],
   "source": [
    "#95% value at risk (VaR), (i.e. 5th quantile)\n",
    "norm.ppf(0.05,mu,sigma)"
   ]
  },
  {
   "cell_type": "code",
   "execution_count": null,
   "metadata": {},
   "outputs": [],
   "source": []
  }
 ],
 "metadata": {
  "kernelspec": {
   "display_name": "Python 3",
   "language": "python",
   "name": "python3"
  },
  "language_info": {
   "codemirror_mode": {
    "name": "ipython",
    "version": 3
   },
   "file_extension": ".py",
   "mimetype": "text/x-python",
   "name": "python",
   "nbconvert_exporter": "python",
   "pygments_lexer": "ipython3",
   "version": "3.7.3"
  }
 },
 "nbformat": 4,
 "nbformat_minor": 2
}
